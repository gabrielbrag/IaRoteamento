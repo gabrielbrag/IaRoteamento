{
  "nbformat": 4,
  "nbformat_minor": 0,
  "metadata": {
    "colab": {
      "name": "RoteamentoJSON.ipynb",
      "provenance": [],
      "collapsed_sections": [],
      "toc_visible": true
    },
    "kernelspec": {
      "name": "python3",
      "display_name": "Python 3"
    }
  },
  "cells": [
    {
      "cell_type": "markdown",
      "metadata": {
        "id": "VQSUWu0oOTgZ"
      },
      "source": [
        "\n",
        "**PROJETO IA - ROTA DE TRÂNSITO IDEAL**\n",
        "\n",
        "\n",
        "\n"
      ]
    },
    {
      "cell_type": "markdown",
      "metadata": {
        "id": "c_97Ec14Nhf7"
      },
      "source": [
        "Comandos para instalar as bibliotecas:\n",
        "\n",
        "-conda install pandas\n",
        "\n",
        "-conda install haversine\n",
        "\n",
        "-conda install -c conda-forge folium\n",
        "\n",
        "**Ou**\n",
        "\n",
        "-pip install pandas\n",
        "\n",
        "-pip install folium\n",
        "\n",
        "-pip install haversine\n",
        "\n"
      ]
    },
    {
      "cell_type": "code",
      "metadata": {
        "id": "KV9DodibN0b5",
        "outputId": "d23c91e1-9eb5-4495-9be2-733a28550570",
        "colab": {
          "base_uri": "https://localhost:8080/"
        }
      },
      "source": [
        "!pip install pandas\n",
        "\n",
        "!pip install folium\n",
        "\n",
        "!pip install haversine"
      ],
      "execution_count": 1,
      "outputs": [
        {
          "output_type": "stream",
          "text": [
            "Requirement already satisfied: pandas in /usr/local/lib/python3.6/dist-packages (1.1.4)\n",
            "Requirement already satisfied: numpy>=1.15.4 in /usr/local/lib/python3.6/dist-packages (from pandas) (1.18.5)\n",
            "Requirement already satisfied: pytz>=2017.2 in /usr/local/lib/python3.6/dist-packages (from pandas) (2018.9)\n",
            "Requirement already satisfied: python-dateutil>=2.7.3 in /usr/local/lib/python3.6/dist-packages (from pandas) (2.8.1)\n",
            "Requirement already satisfied: six>=1.5 in /usr/local/lib/python3.6/dist-packages (from python-dateutil>=2.7.3->pandas) (1.15.0)\n",
            "Requirement already satisfied: folium in /usr/local/lib/python3.6/dist-packages (0.8.3)\n",
            "Requirement already satisfied: jinja2 in /usr/local/lib/python3.6/dist-packages (from folium) (2.11.2)\n",
            "Requirement already satisfied: requests in /usr/local/lib/python3.6/dist-packages (from folium) (2.23.0)\n",
            "Requirement already satisfied: branca>=0.3.0 in /usr/local/lib/python3.6/dist-packages (from folium) (0.4.1)\n",
            "Requirement already satisfied: numpy in /usr/local/lib/python3.6/dist-packages (from folium) (1.18.5)\n",
            "Requirement already satisfied: six in /usr/local/lib/python3.6/dist-packages (from folium) (1.15.0)\n",
            "Requirement already satisfied: MarkupSafe>=0.23 in /usr/local/lib/python3.6/dist-packages (from jinja2->folium) (1.1.1)\n",
            "Requirement already satisfied: certifi>=2017.4.17 in /usr/local/lib/python3.6/dist-packages (from requests->folium) (2020.6.20)\n",
            "Requirement already satisfied: chardet<4,>=3.0.2 in /usr/local/lib/python3.6/dist-packages (from requests->folium) (3.0.4)\n",
            "Requirement already satisfied: idna<3,>=2.5 in /usr/local/lib/python3.6/dist-packages (from requests->folium) (2.10)\n",
            "Requirement already satisfied: urllib3!=1.25.0,!=1.25.1,<1.26,>=1.21.1 in /usr/local/lib/python3.6/dist-packages (from requests->folium) (1.24.3)\n",
            "Collecting haversine\n",
            "  Downloading https://files.pythonhosted.org/packages/f4/52/a13286844780c7b1740edbbee8a8f0524e2a6d51c068b59dda39a6a119f5/haversine-2.3.0-py2.py3-none-any.whl\n",
            "Installing collected packages: haversine\n",
            "Successfully installed haversine-2.3.0\n"
          ],
          "name": "stdout"
        }
      ]
    },
    {
      "cell_type": "markdown",
      "metadata": {
        "id": "YeMt1JVRHA1w"
      },
      "source": [
        "Fazemos as importações necessárias"
      ]
    },
    {
      "cell_type": "code",
      "metadata": {
        "id": "b6Z11gZiF5tV"
      },
      "source": [
        "import requests\n",
        "import json\n",
        "import folium\n",
        "from haversine import haversine\n",
        "from folium.features import DivIcon\n",
        "import html.entities\n",
        "from google.colab import drive"
      ],
      "execution_count": 2,
      "outputs": []
    },
    {
      "cell_type": "markdown",
      "metadata": {
        "id": "Xok6y5oEHmuh"
      },
      "source": [
        "Realizando leitura do JSON"
      ]
    },
    {
      "cell_type": "code",
      "metadata": {
        "id": "l73swWQHGy9U"
      },
      "source": [
        "with open('FaroisDoSaberRotas.json') as json_file:\n",
        "    request_routes = json.load(json_file)"
      ],
      "execution_count": 3,
      "outputs": []
    },
    {
      "cell_type": "markdown",
      "metadata": {
        "id": "jZ2UClIQ4AhL"
      },
      "source": [
        "Retornamos 4 rotas possíveis entre cada ponto, agora iremos filtrar entre essas rotas apena as melhores (menos gasto e tempo). Feito isso criamos uma lista com as rotas ideais a serem usadas pela I.A"
      ]
    },
    {
      "cell_type": "code",
      "metadata": {
        "id": "kB4W32k13-kM"
      },
      "source": [
        "kml = 14 #COLOCAR GASTO KM/L DO CARRO\n",
        "routesI = []\n",
        "for path in request_routes: #Passando por todas as rotas, de todos os pontos\n",
        "  current_node = path['path_orig']\n",
        "  decI = 0\n",
        "  indexRouteI = 0\n",
        "  for indexRoute, route in enumerate(path['routes_list']):\n",
        "    distFinal = 0\n",
        "    routePoints = []\n",
        "    for index, row in enumerate(route['points']):\n",
        "        if index < (len(route['points']) - 1):\n",
        "          pA = (row['latitude'], row['longitude'])\n",
        "          nextIndex = index + 1\n",
        "          pB = (route['points'][nextIndex]['latitude'], route['points'][nextIndex]['longitude'])\n",
        "          distFinal += haversine(pA, pB) #Chamando equação de haversine, calcula distância entre duas coordenadas\n",
        "        routePoints.append([row['latitude'], row['longitude']])\n",
        "    gasto = round(distFinal * kml, 0)\n",
        "    pesoDec = (gasto * route['travelTime']) #Multiplicando os dois fatores para ter um peso de decisão\n",
        "    if decI == 0 or decI > pesoDec:\n",
        "      decI = pesoDec #Se estiver entre as rotas ideais, salva\n",
        "      pointsI = routePoints \n",
        "  edge = {'dest_node':path['path_dest'], 'edge_cost': decI, 'route_points':pointsI}\n",
        "  found_node = False\n",
        "  for routeIndex, routeI in enumerate(routesI): #Passando pela lista de rotas ideais\n",
        "    if routeI['orig_node'] == current_node: #Se achar um item na lista cujo nó de origem é igual a origem atual, usa ele\n",
        "      routesI[routeIndex]['dest'].append(edge) #Coloca o destino\n",
        "      found_node = True\n",
        "  if not found_node: #Senão encontrar o nó origem atual (ponto) na lista de rotas ideias, cria ele e coloca um ponto de destino\n",
        "    new_routeI = {'orig_node':current_node, 'dest':[]}\n",
        "    new_routeI['dest'].append(edge)\n",
        "    routesI.append(new_routeI)"
      ],
      "execution_count": 4,
      "outputs": []
    },
    {
      "cell_type": "markdown",
      "metadata": {
        "id": "sBdVk76z3WEh"
      },
      "source": [
        "Busca pelo melhor caminho\n",
        "---\n",
        "\n"
      ]
    },
    {
      "cell_type": "code",
      "metadata": {
        "id": "dKEIoFT23Sj4"
      },
      "source": [
        "idealRoutes = routesI\n",
        "currentPoint = 0\n",
        "arrivalPoint = 41\n",
        "lowerValue = 0\n",
        "iterations = 0\n",
        "lastPoints = [currentPoint]\n",
        "path = ''\n",
        "isPassed = False\n",
        "optRoute = []\n",
        "\n",
        "def bestPath(currentPoint2):\n",
        "  global idealRoutes\n",
        "  global currentPoint\n",
        "  global arrivalPoint\n",
        "  global lowerValue\n",
        "  global iterations\n",
        "  global lastPoints\n",
        "  global path\n",
        "  global isPassed\n",
        "\n",
        "  vetor = idealRoutes[currentPoint2]['dest']\n",
        "\n",
        "  for value in vetor:\n",
        "      if lowerValue == 0 or lowerValue > value['edge_cost']:\n",
        "        \n",
        "        for item in lastPoints: #Valida se já passou pelo ponto antes\n",
        "            if item == value['dest_node']:\n",
        "              isPassed = True\n",
        "\n",
        "        if value['dest_node'] == arrivalPoint and len(lastPoints) != len(idealRoutes): \n",
        "            continue\n",
        "        \n",
        "        if len(lastPoints) == len(idealRoutes): #Se pontos passados for igual número de pontos, estamos no fim da rota\n",
        "            currentPoint = arrivalPoint\n",
        "        \n",
        "        if isPassed == False: #Se não se passou por esse ponto ainda\n",
        "            lowerValue = value['edge_cost'];\n",
        "            currentPoint = value['dest_node'];\n",
        "\n",
        "      isPassed = False\n",
        "\n",
        "  optRoute.append(currentPoint)\n",
        " \n",
        "  lastPoints.append(currentPoint)\n",
        "\n",
        "  if iterations >= len(idealRoutes) or currentPoint == arrivalPoint: # Segunda condição apenas para não ocorrer erros.\n",
        "      return\n",
        "  else:\n",
        "      iterations = iterations + 1\n",
        "      lowerValue = 0\n",
        "      bestPath(currentPoint)\n",
        "\n",
        "bestPath(currentPoint)\n",
        "\n"
      ],
      "execution_count": 5,
      "outputs": []
    },
    {
      "cell_type": "markdown",
      "metadata": {
        "id": "y-n_NSkZa0d9"
      },
      "source": [
        "Criamos uma função que criará uma lista de coordenadas na ordem da rota ideal"
      ]
    },
    {
      "cell_type": "code",
      "metadata": {
        "id": "9TZCVouma16e"
      },
      "source": [
        "def createCoordsRoute(optRoute):\n",
        "  coordsRoute = []\n",
        "  currentNode = 0\n",
        "  for idx, route in enumerate(optRoute):\n",
        "    for edge in routesI:\n",
        "      if edge['orig_node'] == currentNode:\n",
        "          nextNode = optRoute[idx]\n",
        "          for destNode in edge['dest']:\n",
        "            if destNode['dest_node'] == nextNode:\n",
        "              for coords in destNode['route_points']:\n",
        "                coordsRoute.append(coords)\n",
        "                currentNode = nextNode\n",
        "          break\n",
        "  return coordsRoute"
      ],
      "execution_count": 6,
      "outputs": []
    },
    {
      "cell_type": "markdown",
      "metadata": {
        "id": "fHZhq8Tza7a-"
      },
      "source": [
        "Criamos uma lista com todas as coordenadas da rota, na ordem escolhida pela busca gulosa"
      ]
    },
    {
      "cell_type": "code",
      "metadata": {
        "id": "J1l3pxMaa3kN"
      },
      "source": [
        "coordsRoute = createCoordsRoute(optRoute)"
      ],
      "execution_count": 7,
      "outputs": []
    },
    {
      "cell_type": "markdown",
      "metadata": {
        "id": "oyyqsHisqQ2o"
      },
      "source": [
        "Carregando Arquivos JSON's com nomes e coordenadas dos endereços"
      ]
    },
    {
      "cell_type": "code",
      "metadata": {
        "id": "Y4ngJ9SPqQpn"
      },
      "source": [
        "with open('enderecosFarol.json') as json_file:\n",
        "    coordsEnde = json.load(json_file)"
      ],
      "execution_count": 8,
      "outputs": []
    },
    {
      "cell_type": "markdown",
      "metadata": {
        "id": "u6PJf4TPjbe4"
      },
      "source": [
        "Cria-se uma tabela contendo os caracteres especiais em HTML e seus correspondentes em ASCII, será usado na exibição"
      ]
    },
    {
      "cell_type": "code",
      "metadata": {
        "id": "lyC-u_k-gjGr"
      },
      "source": [
        "global tableCharacters \n",
        "tableCharacters = {k: '&{};'.format(v) for k, v in html.entities.codepoint2name.items()}"
      ],
      "execution_count": 9,
      "outputs": []
    },
    {
      "cell_type": "markdown",
      "metadata": {
        "id": "ESj21oa5bUQ_"
      },
      "source": [
        "Definindo a função para criação do mapa"
      ]
    },
    {
      "cell_type": "code",
      "metadata": {
        "id": "bNQd_m_5bRBU"
      },
      "source": [
        "def CreateMap(coordsEnde, coordsRoute):\n",
        "  m = folium.Map(location=[float(coordsEnde[0]['coord'][1]), float(coordsEnde[0]['coord'][0])],\n",
        "               zoom_start=13) #Criamos um objeto mapa da biblioteca Folium, será usado para exibição\n",
        "\n",
        "  folium.Marker([coordsEnde[0]['coord'][1], coordsEnde[0]['coord'][0]], \n",
        "              popup='<b>' + coordsEnde[0]['NomeLugar'] + '</b>', \n",
        "              icon=DivIcon(icon_size=(200,36),\n",
        "                icon_anchor=(0,0),\n",
        "                html='<div style=\"font-size: 12pt; color:blue; font-weight: bold\">Ponto Inicial</div>' #Criamos uma legenda indicando o ponto inicial\n",
        "              )).add_to(m)\n",
        "\n",
        "  for index, ende in enumerate(coordsEnde): #Criamos um ponto no mapa para cada parada\n",
        "    folium.Marker([ende['coord'][1], ende['coord'][0]], \n",
        "                  popup='<b>' + ende['NomeLugar'].translate(tableCharacters) + '</b>',  \n",
        "                  icon = folium.features.CustomIcon('Marker.png', icon_size=(18,18))).add_to(m)\n",
        "\n",
        "  tuples = [tuple(x) for x in coordsRoute] #Percorremos a rota do parâmetro criando uma linha verde indicando o caminho\n",
        "  folium.PolyLine(tuples, color=\"green\", weight=2.5, opacity=1).add_to(m) \n",
        "\n",
        "  return m #Retornamos o mapa\n"
      ],
      "execution_count": 11,
      "outputs": []
    },
    {
      "cell_type": "markdown",
      "metadata": {
        "id": "82UCZryZbNNX"
      },
      "source": [
        "Criamos o objeto para mostrar o mapa da rota criada"
      ]
    },
    {
      "cell_type": "code",
      "metadata": {
        "id": "s5GrtEhHQaF1"
      },
      "source": [
        "m = CreateMap(coordsEnde, coordsRoute)"
      ],
      "execution_count": 12,
      "outputs": []
    },
    {
      "cell_type": "markdown",
      "metadata": {
        "id": "y63q2u30kCXX"
      },
      "source": [
        "Exibimos o mapa"
      ]
    },
    {
      "cell_type": "code",
      "metadata": {
        "id": "E51hdoceveHE"
      },
      "source": [
        "m"
      ],
      "execution_count": null,
      "outputs": []
    },
    {
      "cell_type": "markdown",
      "metadata": {
        "id": "FMvaYhG7khWn"
      },
      "source": [
        "Agora tentaremos otimizar a rota, a função abaixo serve para identificar o custo total da rota, multiplicando distância por tempo"
      ]
    },
    {
      "cell_type": "code",
      "metadata": {
        "id": "hsd843ldQqfP"
      },
      "source": [
        "def CostRoute(request_routes, optRoute):\n",
        "  current_node = 0\n",
        "  next_node = optRoute[0]\n",
        "  index_route = 0\n",
        "  totalTime = 0\n",
        "  distFinal = 0\n",
        "  nodes = 0\n",
        "  for node in optRoute:\n",
        "    for path in request_routes:\n",
        "      if path['path_orig'] == current_node and path['path_dest'] == node:\n",
        "        nodes += 1\n",
        "        totalTime += path['routes_list'][0]['travelTime']\n",
        "        for index, row in enumerate(path['routes_list'][0]['points']):\n",
        "          if index < (len(path['routes_list'][0]['points']) - 1):\n",
        "            pA = (row['latitude'], row['longitude'])\n",
        "            nextIndex = index + 1\n",
        "            pB = (path['routes_list'][0]['points'][nextIndex]['latitude'], path['routes_list'][0]['points'][nextIndex]['longitude'])\n",
        "            distFinal += haversine(pA, pB) #Chamando equação de haversine, calcula distância entre duas coordenadas\n",
        "        current_node = node\n",
        "        break \n",
        "  return (distFinal * totalTime)"
      ],
      "execution_count": 15,
      "outputs": []
    },
    {
      "cell_type": "markdown",
      "metadata": {
        "id": "v8TN7q-Xkwg5"
      },
      "source": [
        "Utilizaremos 2-opt para realizar a otimização, abaixo a definição da função 2OptSwap"
      ]
    },
    {
      "cell_type": "code",
      "metadata": {
        "id": "e65qSM8gQ_z5"
      },
      "source": [
        "def TwoOptSwap(route, i, k): \n",
        "#A função recebe uma lista e dois pontos, a ideia é inverter o trecho da lista \n",
        "#entre esses dois pontos do parâmetro e manter o resto da lista como antes\n",
        "  new_route = []\n",
        "  for routePoint in route[0:i]: #Até o ponto I, a nova rota é idêntica a original\n",
        "    new_route.append(routePoint)\n",
        "  for routePoint in reversed(route[i:k + 1]): #Do ponto I ao K ela retorna invertida\n",
        "    new_route.append(routePoint)\n",
        "  for routePoint in route[k+1:(len(route))]: #Do ponto K em diante mantém-se idêntica\n",
        "    new_route.append(routePoint)\n",
        "  return new_route #Retornamos a nova rota"
      ],
      "execution_count": 16,
      "outputs": []
    },
    {
      "cell_type": "markdown",
      "metadata": {
        "id": "q8W_sPd3b-tD"
      },
      "source": [
        "Criamos a função de implementação, passaremos por todos os pontos da rota e tentaremos as inversões até obter a melhor rota"
      ]
    },
    {
      "cell_type": "code",
      "metadata": {
        "id": "7MMt5gZDcB-3"
      },
      "source": [
        "def TwoOptImplement(route):\n",
        "  best_cost = CostRoute(request_routes, route)\n",
        "  for i in range(1, (len(route) - 2)):\n",
        "    for k in range((i + 1), (len(route) - 2)):\n",
        "      new_route = TwoOptSwap(route, i, k)\n",
        "      new_cost = CostRoute(request_routes, new_route)\n",
        "      if (new_cost < best_cost):\n",
        "        route = new_route\n",
        "        best_distance = new_cost\n",
        "  return route"
      ],
      "execution_count": 17,
      "outputs": []
    },
    {
      "cell_type": "markdown",
      "metadata": {
        "id": "ERkxfNOIcHdU"
      },
      "source": [
        "Realizamos a aplicação do 2-opt"
      ]
    },
    {
      "cell_type": "code",
      "metadata": {
        "id": "vY1BW9MacLN0"
      },
      "source": [
        "new_optRoute = TwoOptImplement(optRoute)"
      ],
      "execution_count": 18,
      "outputs": []
    },
    {
      "cell_type": "markdown",
      "metadata": {
        "id": "G_735gsYcTNX"
      },
      "source": [
        "Executamos a função de custo para verificar se tivemos ganhos"
      ]
    },
    {
      "cell_type": "code",
      "metadata": {
        "id": "138N0FIZcV6W",
        "outputId": "c2f5ff83-12c1-4e0b-8699-56ea95cb62f0",
        "colab": {
          "base_uri": "https://localhost:8080/"
        }
      },
      "source": [
        "print(CostRoute(request_routes, optRoute))\n",
        "print(CostRoute(request_routes, new_optRoute))"
      ],
      "execution_count": 19,
      "outputs": [
        {
          "output_type": "stream",
          "text": [
            "3444985.896215819\n",
            "3374683.8728551273\n"
          ],
          "name": "stdout"
        }
      ]
    },
    {
      "cell_type": "markdown",
      "metadata": {
        "id": "ADDBuY1RcYMu"
      },
      "source": [
        "Criamos uma nova lista de coordenadas"
      ]
    },
    {
      "cell_type": "code",
      "metadata": {
        "id": "nsPUlmNlcZKe"
      },
      "source": [
        "optCoordsRoute = createCoordsRoute(new_optRoute)"
      ],
      "execution_count": 20,
      "outputs": []
    },
    {
      "cell_type": "markdown",
      "metadata": {
        "id": "jqH6orWGcauQ"
      },
      "source": [
        "Criamos o novo mapa"
      ]
    },
    {
      "cell_type": "code",
      "metadata": {
        "id": "fXmCpzgGcdEk"
      },
      "source": [
        "m_new = CreateMap(coordsEnde, optCoordsRoute)"
      ],
      "execution_count": 21,
      "outputs": []
    },
    {
      "cell_type": "markdown",
      "metadata": {
        "id": "60cg1Q7_ceoJ"
      },
      "source": [
        "E exibimos"
      ]
    },
    {
      "cell_type": "code",
      "metadata": {
        "id": "nF9FitujciJt"
      },
      "source": [
        "m_new"
      ],
      "execution_count": null,
      "outputs": []
    }
  ]
}