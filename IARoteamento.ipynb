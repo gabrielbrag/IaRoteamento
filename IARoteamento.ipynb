{
  "nbformat": 4,
  "nbformat_minor": 0,
  "metadata": {
    "colab": {
      "name": "DataFrameRotas.ipynb",
      "provenance": [],
      "collapsed_sections": []
    },
    "kernelspec": {
      "name": "python3",
      "display_name": "Python 3"
    }
  },
  "cells": [
    {
      "cell_type": "markdown",
      "metadata": {
        "id": "VQSUWu0oOTgZ"
      },
      "source": [
        "\n",
        "**PROJETO IA - ROTA DE TRÂNSITO IDEAL**\n",
        "\n",
        "\n",
        "\n"
      ]
    },
    {
      "cell_type": "markdown",
      "metadata": {
        "id": "c_97Ec14Nhf7"
      },
      "source": [
        "Comandos para instalar as bibliotecas:\n",
        "\n",
        "-conda install pandas\n",
        "\n",
        "-conda install haversine\n",
        "\n",
        "-conda install -c conda-forge folium\n",
        "\n",
        "**Ou**\n",
        "\n",
        "-pip install pandas\n",
        "\n",
        "-pip install folium\n",
        "\n",
        "-pip install haversine\n",
        "\n"
      ]
    },
    {
      "cell_type": "code",
      "metadata": {
        "id": "KV9DodibN0b5"
      },
      "source": [
        "!pip install pandas\n",
        "\n",
        "!pip install folium\n",
        "\n",
        "!pip install haversine"
      ],
      "execution_count": null,
      "outputs": []
    },
    {
      "cell_type": "markdown",
      "metadata": {
        "id": "YeMt1JVRHA1w"
      },
      "source": [
        "Fazemos as importações necessárias"
      ]
    },
    {
      "cell_type": "code",
      "metadata": {
        "id": "b6Z11gZiF5tV"
      },
      "source": [
        "import requests\n",
        "import json\n",
        "import pandas as pd\n",
        "import folium\n",
        "import time\n",
        "import random\n",
        "from haversine import haversine\n",
        "from folium.features import DivIcon"
      ],
      "execution_count": null,
      "outputs": []
    },
    {
      "cell_type": "markdown",
      "metadata": {
        "id": "DymNtvXn6TJu"
      },
      "source": [
        "Criamos strings contendo os endereços de partida e destino"
      ]
    },
    {
      "cell_type": "code",
      "metadata": {
        "id": "4yAb4XD0vuKc"
      },
      "source": [
        "Pontos = []\n",
        "\n",
        "Pontos.append({'Endereço':'Rua Minas Gerais, 440-554 - Guaíra', 'NomeLugar':'Casa do inicio'})\n",
        "Pontos.append({'Endereço':'Rua Jaime Rodrigues da Rocha, 2-218 - Capão Raso', 'NomeLugar':'Casa da namorada'})\n",
        "Pontos.append({'Endereço':'Rua Bernardo Jacintho da Veiga, 656-824 - Novo Mundo, Curitiba - PR, 81050-100', 'NomeLugar':'Casa do amigo'})\n",
        "Pontos.append({'Endereço':'R. Curupis, 628-742 - Santa Quiteria', 'NomeLugar':'Casa da amiga'})\n",
        "Pontos.append({'Endereço':'Av. Pres. Kennedy, 4121 Portão Curitiba PR', 'NomeLugar':'Shooping'})"
      ],
      "execution_count": null,
      "outputs": []
    },
    {
      "cell_type": "markdown",
      "metadata": {
        "id": "nOXJnW2c6ZMS"
      },
      "source": [
        "Realizamos requisições na API MapBox, para obter as coordenadas dos endereços"
      ]
    },
    {
      "cell_type": "code",
      "metadata": {
        "id": "jjxpWd4_vuBE"
      },
      "source": [
        "req = []\n",
        "for ponto in Pontos:\n",
        "  req.append(requests.get('https://api.mapbox.com/geocoding/v5/mapbox.places/' + ponto['Endereço'] + '.json?access_token=pk.eyJ1IjoiamVhbmN3YiIsImEiOiJja2VnZmI2czYwa3loMnFyejdhaDVzZzhjIn0.5YA3in_HTwmOM1WOa7CTIg&bbox=-73.9872354804, -33.7683777809, -34.7299934555, 5.24448639569'))\n",
        "  time.sleep(0.5)"
      ],
      "execution_count": null,
      "outputs": []
    },
    {
      "cell_type": "markdown",
      "metadata": {
        "id": "-9cTVYaB7_U0"
      },
      "source": [
        "Exibimos o retorno da API, para nos certificar que o endereço retornou corretamente"
      ]
    },
    {
      "cell_type": "code",
      "metadata": {
        "id": "nS6AINWE5CvC"
      },
      "source": [
        "for r in req:\n",
        "  print(r.text)"
      ],
      "execution_count": null,
      "outputs": []
    },
    {
      "cell_type": "markdown",
      "metadata": {
        "id": "EhPgfPsI8S9T"
      },
      "source": [
        "Transformamos o retorno em um dicionário Python"
      ]
    },
    {
      "cell_type": "code",
      "metadata": {
        "id": "ZK-tXlCIvt0A"
      },
      "source": [
        "jsonEnds = []\n",
        "for r in req:\n",
        "  jsonEnds.append(json.loads(r.text))"
      ],
      "execution_count": null,
      "outputs": []
    },
    {
      "cell_type": "markdown",
      "metadata": {
        "id": "hQUbLNFN8YQH"
      },
      "source": [
        "Convertemos as coordenadas presentes no retorno em uma lista de coordenadas"
      ]
    },
    {
      "cell_type": "code",
      "metadata": {
        "id": "uXG17AS1vtne"
      },
      "source": [
        "coordsEnde = []\n",
        "for jsonEnd in jsonEnds:\n",
        "  coordsEnde.append(jsonEnd['features'][0]['geometry']['coordinates'])"
      ],
      "execution_count": null,
      "outputs": []
    },
    {
      "cell_type": "markdown",
      "metadata": {
        "id": "c1LuM5IFHG3u"
      },
      "source": [
        "Criamos strings com as coordenadas dos endereços, conversão necessária para fazer requisições na API do TomTom (que retornará as rotas)"
      ]
    },
    {
      "cell_type": "code",
      "metadata": {
        "id": "fDNFfHolNIIn"
      },
      "source": [
        "coord_str = []\n",
        "for coord in coordsEnde:\n",
        "  coord_str.append(str(coord[1]) + '%2C' + str(coord[0]))"
      ],
      "execution_count": null,
      "outputs": []
    },
    {
      "cell_type": "markdown",
      "metadata": {
        "id": "Q8Vq8_2xNLq8"
      },
      "source": [
        "GET na API do tomtom e tratamento do retorno (gerando uma lista com as rotas possíveis entre os pontos)"
      ]
    },
    {
      "cell_type": "code",
      "metadata": {
        "id": "oOg5FR4_GC06"
      },
      "source": [
        "request_routes = []\n",
        "for index1, coord1 in enumerate(coord_str):\n",
        "  if index1 != (len(coord_str) - 1):\n",
        "    for index2, coord2 in enumerate(coord_str):\n",
        "      if index2 != 0:\n",
        "        routes_list = []\n",
        "        if coord1 != coord2:\n",
        "          r = requests.get('https://api.tomtom.com/routing/1/calculateRoute/' + coord1 + '%3A' + coord2 + '/json?maxAlternatives=3&avoid=unpavedRoads&key=fZJ66W6Qzj9AMLpz1YItfHRs8IBzRi1z')\n",
        "          time.sleep(0.5)\n",
        "          jsonDict = json.loads(r.text)\n",
        "          for route in jsonDict['routes']:\n",
        "            routes_dict = {}\n",
        "            routes_dict['travelTime'] = route['summary']['travelTimeInSeconds']\n",
        "            routes_dict['points'] = pd.DataFrame(route['legs'][0]['points'])\n",
        "            routes_list.append(routes_dict)\n",
        "          random.shuffle(routes_list) #Misturando a lista para dificultar um pouco...\n",
        "          path_orig = index1\n",
        "          path_dest = index2\n",
        "          path_dict = {'path_orig':index1, 'path_dest':index2, 'routes_list':routes_list}\n",
        "          request_routes.append(path_dict)"
      ],
      "execution_count": null,
      "outputs": []
    },
    {
      "cell_type": "markdown",
      "metadata": {
        "id": "Xok6y5oEHmuh"
      },
      "source": [
        "Printamos para validar"
      ]
    },
    {
      "cell_type": "code",
      "metadata": {
        "id": "l73swWQHGy9U"
      },
      "source": [
        "print(request_routes)"
      ],
      "execution_count": null,
      "outputs": []
    },
    {
      "cell_type": "markdown",
      "metadata": {
        "id": "jZ2UClIQ4AhL"
      },
      "source": [
        "Retornamos 4 rotas possíveis entre cada ponto, agora iremos filtrar entre essas rotas apena as melhores (menos gasto e tempo). Feito isso criamos uma lista com as rotas ideais a serem usadas pela I.A"
      ]
    },
    {
      "cell_type": "code",
      "metadata": {
        "id": "kB4W32k13-kM"
      },
      "source": [
        "kml = 6 #COLOCAR GASTO KM/L DO CARRO\n",
        "routesI = []\n",
        "for path in request_routes: #Passando por todas as rotas, de todos os pontos\n",
        "  current_node = path['path_orig']\n",
        "  decI = 0\n",
        "  indexRouteI = 0\n",
        "  for indexRoute, route in enumerate(path['routes_list']):\n",
        "    distFinal = 0\n",
        "    routePoints = []\n",
        "    for index, row in route['points'].iterrows():\n",
        "        if index < (len(route['points']) - 1):\n",
        "          pA = (row['latitude'], row['longitude'])\n",
        "          nextIndex = index + 1\n",
        "          pB = (route['points']['latitude'][nextIndex], route['points']['longitude'][nextIndex])\n",
        "          distFinal += haversine(pA, pB) #Chamando equação de haversine, calcula distância entre duas coordenadas\n",
        "        routePoints.append([row['latitude'], row['longitude']])\n",
        "    gasto = round(distFinal * kml, 0)\n",
        "    pesoDec = (gasto * route['travelTime']) #Multiplicando os dois fatores para ter um peso de decisão\n",
        "    if decI == 0 or decI > pesoDec:\n",
        "      decI = pesoDec #Se estiver entre as rotas ideais, salva\n",
        "      pointsI = routePoints \n",
        "  edge = {'dest_node':path['path_dest'], 'edge_cost': decI, 'route_points':pointsI}\n",
        "  found_node = False\n",
        "  for routeIndex, routeI in enumerate(routesI): #Passando pela lista de rotas ideais\n",
        "    if routeI['orig_node'] == current_node: #Se achar um item na lista cujo nó de origem é igual a origem atual, usa ele\n",
        "      routesI[routeIndex]['dest'].append(edge) #Coloca o destino\n",
        "      found_node = True\n",
        "  if not found_node: #Senão encontrar o nó origem atual (ponto) na lista de rotas ideias, cria ele e coloca um ponto de destino\n",
        "    new_routeI = {'orig_node':current_node, 'dest':[]}\n",
        "    new_routeI['dest'].append(edge)\n",
        "    routesI.append(new_routeI)\n",
        "\n",
        "print(routesI)"
      ],
      "execution_count": null,
      "outputs": []
    },
    {
      "cell_type": "code",
      "metadata": {
        "id": "ZTR6JmEzkjby"
      },
      "source": [
        "len(routesI)"
      ],
      "execution_count": null,
      "outputs": []
    },
    {
      "cell_type": "markdown",
      "metadata": {
        "id": "sBdVk76z3WEh"
      },
      "source": [
        "Busca pelo melhor caminho\n",
        "---\n",
        "\n"
      ]
    },
    {
      "cell_type": "code",
      "metadata": {
        "id": "dKEIoFT23Sj4"
      },
      "source": [
        "idealRoutes = routesI\n",
        "currentPoint = 0\n",
        "arrivalPoint = 4\n",
        "lowerValue = 0\n",
        "iterations = 0\n",
        "lastPoints = [currentPoint]\n",
        "path = ''\n",
        "isPassed = False\n",
        "optRoute = []\n",
        "\n",
        "def bestPath(currentPoint2):\n",
        "  global idealRoutes\n",
        "  global currentPoint\n",
        "  global arrivalPoint\n",
        "  global lowerValue\n",
        "  global iterations\n",
        "  global lastPoints\n",
        "  global path\n",
        "  global isPassed\n",
        "\n",
        "  vetor = idealRoutes[currentPoint2]['dest']\n",
        "\n",
        "  for value in vetor:\n",
        "      if lowerValue == 0 or lowerValue > value['edge_cost']:\n",
        "        \n",
        "        for item in lastPoints:\n",
        "            if item == value['dest_node']:\n",
        "              isPassed = True\n",
        "\n",
        "        if value['dest_node'] == arrivalPoint and len(lastPoints) != len(idealRoutes):\n",
        "            continue\n",
        "        \n",
        "        if len(lastPoints) == len(idealRoutes) - 1:\n",
        "            currentPoint = arrivalPoint\n",
        "        \n",
        "        if isPassed == False:\n",
        "            lowerValue = value['edge_cost'];\n",
        "            currentPoint = value['dest_node'];\n",
        "\n",
        "      isPassed = False\n",
        "\n",
        "  optRoute.append(currentPoint)\n",
        "  path = path + str(currentPoint) + '->'\n",
        "  \n",
        "  lastPoints.append(currentPoint)\n",
        "  print(path)\n",
        "\n",
        "  if iterations >= len(idealRoutes) or currentPoint == arrivalPoint: # Segunda condição apenas para não ocorrer erros.\n",
        "      return\n",
        "  else:\n",
        "      iterations = iterations + 1\n",
        "      lowerValue = 0\n",
        "      bestPath(currentPoint)\n",
        "\n",
        "bestPath(currentPoint)\n",
        "\n"
      ],
      "execution_count": null,
      "outputs": []
    },
    {
      "cell_type": "code",
      "metadata": {
        "id": "JCb4JQBGge_R"
      },
      "source": [
        "coordsRoute = []\n",
        "currentNode = 0\n",
        "for idx, route in enumerate(optRoute):\n",
        "  for edge in routesI:\n",
        "    if edge['orig_node'] == currentNode:\n",
        "        nextNode = optRoute[idx]\n",
        "        print(currentNode)\n",
        "        for destNode in edge['dest']:\n",
        "          if destNode['dest_node'] == nextNode:\n",
        "            print(destNode)\n",
        "            for coords in destNode['route_points']:\n",
        "              coordsRoute.append(coords)\n",
        "              currentNode = nextNode\n",
        "        break\n",
        "print(coordsRoute)"
      ],
      "execution_count": null,
      "outputs": []
    },
    {
      "cell_type": "markdown",
      "metadata": {
        "id": "u6PJf4TPjbe4"
      },
      "source": [
        "Criamos um objeto mapa da biblioteca Folium, será usado para exibição"
      ]
    },
    {
      "cell_type": "code",
      "metadata": {
        "id": "s5GrtEhHQaF1"
      },
      "source": [
        "m = folium.Map(location=[float(coordsRoute[0][0]), float(coordsRoute[0][1])],\n",
        "               zoom_start=13)"
      ],
      "execution_count": null,
      "outputs": []
    },
    {
      "cell_type": "markdown",
      "metadata": {
        "id": "y63q2u30kCXX"
      },
      "source": [
        "Criamos um marcador no mapa no ponto de partida e chegada, para facilitar a visualização"
      ]
    },
    {
      "cell_type": "code",
      "metadata": {
        "id": "5LmvXdqYQdI8"
      },
      "source": [
        "for index, coord in enumerate(coordsEnde):\n",
        "  print(coord)\n",
        "  folium.Marker([coord[1], coord[0]], \n",
        "                popup='<b>' + Pontos[index]['NomeLugar'] + '</b>', \n",
        "                icon=DivIcon(icon_size=(200,36),\n",
        "                  icon_anchor=(0,0),\n",
        "                  html='<div style=\"font-size: 12pt; color:blue; font-weight: bold\">%s</div>' % Pontos[index]['NomeLugar'],\n",
        "                )).add_to(m)\n",
        "  folium.Marker([coord[1], coord[0]], \n",
        "                popup='<b>' + Pontos[index]['NomeLugar'] + '</b>').add_to(m)"
      ],
      "execution_count": null,
      "outputs": []
    },
    {
      "cell_type": "markdown",
      "metadata": {
        "id": "FMvaYhG7khWn"
      },
      "source": [
        "Percorremos as coordenadas da rota para criar uma lista de tuplas, então utilizamos ela para criar o percurso no mapa"
      ]
    },
    {
      "cell_type": "code",
      "metadata": {
        "id": "hsd843ldQqfP"
      },
      "source": [
        "tuples = [tuple(x) for x in coordsRoute]\n",
        "folium.PolyLine(tuples, color=\"red\", weight=2.5, opacity=1).add_to(m)"
      ],
      "execution_count": null,
      "outputs": []
    },
    {
      "cell_type": "markdown",
      "metadata": {
        "id": "v8TN7q-Xkwg5"
      },
      "source": [
        "Exibimos o mapa"
      ]
    },
    {
      "cell_type": "code",
      "metadata": {
        "id": "e65qSM8gQ_z5"
      },
      "source": [
        "m"
      ],
      "execution_count": null,
      "outputs": []
    }
  ]
}